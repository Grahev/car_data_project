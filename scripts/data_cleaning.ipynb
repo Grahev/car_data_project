{
 "cells": [
  {
   "cell_type": "markdown",
   "metadata": {},
   "source": []
  },
  {
   "cell_type": "code",
   "execution_count": 1,
   "metadata": {},
   "outputs": [],
   "source": [
    "import re\n",
    "import pandas as pd\n",
    "import numpy as np\n",
    "import os\n",
    "import sqlite3\n",
    "import datetime"
   ]
  },
  {
   "cell_type": "code",
   "execution_count": 2,
   "metadata": {},
   "outputs": [],
   "source": [
    "#database location\n",
    "db_location = 'crawlers/usedcarsni/database.db'\n"
   ]
  },
  {
   "cell_type": "code",
   "execution_count": 3,
   "metadata": {},
   "outputs": [],
   "source": [
    "def read_database(db_path):\n",
    "    conn = sqlite3.connect(db_path)\n",
    "    query = \"SELECT * FROM uncleaned_used_cars\"\n",
    "    df = pd.read_sql_query(query, conn)\n",
    "    conn.close()\n",
    "\n",
    "    today = datetime.date.today()\n",
    "    yesterday = today - datetime.timedelta(days=1)\n",
    "\n",
    "    df['datestamp'] = pd.to_datetime(df['datestamp'])\n",
    "    df_today = df[df['datestamp'].dt.date == today]\n",
    "    df_yesterday = df[df['datestamp'].dt.date == yesterday]\n",
    "\n",
    "    return df_today, df_yesterday"
   ]
  },
  {
   "cell_type": "code",
   "execution_count": 4,
   "metadata": {},
   "outputs": [
    {
     "name": "stdout",
     "output_type": "stream",
     "text": [
      "<class 'pandas.core.frame.DataFrame'>\n",
      "Int64Index: 17264 entries, 51360 to 68623\n",
      "Data columns (total 13 columns):\n",
      " #   Column        Non-Null Count  Dtype         \n",
      "---  ------        --------------  -----         \n",
      " 0   title         17264 non-null  object        \n",
      " 1   price         17081 non-null  object        \n",
      " 2   year          17264 non-null  object        \n",
      " 3   milage        17264 non-null  object        \n",
      " 4   transmission  17264 non-null  object        \n",
      " 5   fuel_type     17264 non-null  object        \n",
      " 6   body_style    17264 non-null  object        \n",
      " 7   engine_size   17264 non-null  object        \n",
      " 8   doors         17264 non-null  object        \n",
      " 9   location      17264 non-null  object        \n",
      " 10  link          17264 non-null  object        \n",
      " 11  datestamp     17264 non-null  datetime64[ns]\n",
      " 12  timestamp2    17264 non-null  object        \n",
      "dtypes: datetime64[ns](1), object(12)\n",
      "memory usage: 1.1+ MB\n",
      "None\n",
      "<class 'pandas.core.frame.DataFrame'>\n",
      "Int64Index: 17073 entries, 34287 to 51359\n",
      "Data columns (total 13 columns):\n",
      " #   Column        Non-Null Count  Dtype         \n",
      "---  ------        --------------  -----         \n",
      " 0   title         17073 non-null  object        \n",
      " 1   price         16889 non-null  object        \n",
      " 2   year          17073 non-null  object        \n",
      " 3   milage        17073 non-null  object        \n",
      " 4   transmission  17073 non-null  object        \n",
      " 5   fuel_type     17073 non-null  object        \n",
      " 6   body_style    17073 non-null  object        \n",
      " 7   engine_size   17073 non-null  object        \n",
      " 8   doors         17073 non-null  object        \n",
      " 9   location      17073 non-null  object        \n",
      " 10  link          17073 non-null  object        \n",
      " 11  datestamp     17073 non-null  datetime64[ns]\n",
      " 12  timestamp2    17073 non-null  object        \n",
      "dtypes: datetime64[ns](1), object(12)\n",
      "memory usage: 1.0+ MB\n",
      "None\n"
     ]
    }
   ],
   "source": [
    "#create dataframe from database\n",
    "df_today, df_yesterday = read_database(db_location)\n",
    "print(df_today.info())\n",
    "print(df_yesterday.info())"
   ]
  },
  {
   "cell_type": "code",
   "execution_count": 5,
   "metadata": {},
   "outputs": [],
   "source": [
    "def extract_number(link):\n",
    "    pattern = r'(\\d{9})'  # This pattern matches a sequence of 9 digits.\n",
    "    match = re.search(pattern, link)\n",
    "    if match:\n",
    "        return match.group(1)\n",
    "    else:\n",
    "        return None\n",
    "\n",
    "def extract_unoque_string(link):\n",
    "    unique_string = link.split(\"/\")[-1].split(\"?\")[0]\n",
    "    return unique_string"
   ]
  },
  {
   "cell_type": "code",
   "execution_count": 6,
   "metadata": {},
   "outputs": [],
   "source": [
    "#apply extract_number function to the link column\n",
    "df_today['ad_id'] = df_today['link'].apply(extract_number)\n",
    "df_yesterday['ad_id'] = df_yesterday['link'].apply(extract_number)\n",
    "\n",
    "#apply extract_unoque_string function to the link column\n",
    "df_today['unique_string'] = df_today['link'].apply(extract_unoque_string)\n",
    "df_yesterday['unique_string'] = df_yesterday['link'].apply(extract_unoque_string)"
   ]
  },
  {
   "attachments": {},
   "cell_type": "markdown",
   "metadata": {},
   "source": [
    "section to get only unique rows"
   ]
  },
  {
   "cell_type": "code",
   "execution_count": 7,
   "metadata": {},
   "outputs": [],
   "source": [
    "\n",
    "def check_csv_file2(df_today, df_yesterday):\n",
    "  \n",
    "    list_today = df_today['ad_id'].tolist()\n",
    "    list_yestrerday = df_yesterday['ad_id'].tolist()\n",
    "\n",
    "    unique_values = set(list_today) - set(list_yestrerday)\n",
    "    return unique_values\n"
   ]
  },
  {
   "cell_type": "code",
   "execution_count": 8,
   "metadata": {},
   "outputs": [],
   "source": [
    "output = check_csv_file2(df_today, df_yesterday)"
   ]
  },
  {
   "cell_type": "code",
   "execution_count": 9,
   "metadata": {},
   "outputs": [],
   "source": [
    "def save_list_to_database_with_duplicates(db_path, table_name, duplicate_table_name, data_list):\n",
    "    conn = sqlite3.connect(db_path)\n",
    "    c = conn.cursor()\n",
    "\n",
    "    # create table if it doesn't already exist\n",
    "    c.execute(f\"CREATE TABLE IF NOT EXISTS {table_name} (id INTEGER PRIMARY KEY, datestamp DATE)\")\n",
    "    c.execute(f\"CREATE TABLE IF NOT EXISTS {duplicate_table_name} (id INTEGER PRIMARY KEY, datestamp DATE)\")\n",
    "    \n",
    "    # get today's date for the datestamp value\n",
    "    today = datetime.date.today()\n",
    "\n",
    "    # insert data into table with today's date as the datestamp value\n",
    "    for item in data_list:\n",
    "        try:\n",
    "            c.execute(f\"INSERT INTO {table_name} (id, datestamp) VALUES (?, ?)\", (item, today))\n",
    "        except sqlite3.IntegrityError:\n",
    "            # if the ID already exists, save it to the duplicate table instead\n",
    "            c.execute(f\"INSERT INTO {duplicate_table_name} (id, datestamp) VALUES (?, ?)\", (item, today))\n",
    "\n",
    "    # commit changes and close connection\n",
    "    conn.commit()\n",
    "    conn.close()"
   ]
  },
  {
   "cell_type": "code",
   "execution_count": 10,
   "metadata": {},
   "outputs": [],
   "source": [
    "save_list_to_database_with_duplicates(db_location, 'unique_ids', 'duplicate_ids', output)"
   ]
  },
  {
   "cell_type": "code",
   "execution_count": 11,
   "metadata": {},
   "outputs": [
    {
     "name": "stdout",
     "output_type": "stream",
     "text": [
      "759\n"
     ]
    }
   ],
   "source": [
    "print(len(output))"
   ]
  }
 ],
 "metadata": {
  "kernelspec": {
   "display_name": "Python 3",
   "language": "python",
   "name": "python3"
  },
  "language_info": {
   "codemirror_mode": {
    "name": "ipython",
    "version": 3
   },
   "file_extension": ".py",
   "mimetype": "text/x-python",
   "name": "python",
   "nbconvert_exporter": "python",
   "pygments_lexer": "ipython3",
   "version": "3.8.3"
  },
  "orig_nbformat": 4,
  "vscode": {
   "interpreter": {
    "hash": "a7a19899c970446d20f78fcd45b3b6f0eeaa159115fffbfcf1983f14a283902a"
   }
  }
 },
 "nbformat": 4,
 "nbformat_minor": 2
}
