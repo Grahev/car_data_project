{
 "cells": [
  {
   "cell_type": "markdown",
   "metadata": {},
   "source": []
  },
  {
   "cell_type": "code",
   "execution_count": 1,
   "metadata": {},
   "outputs": [],
   "source": [
    "import re\n",
    "import pandas as pd\n",
    "import numpy as np"
   ]
  },
  {
   "cell_type": "code",
   "execution_count": 2,
   "metadata": {},
   "outputs": [],
   "source": [
    "def extract_number(link):\n",
    "    pattern = r'(\\d{9})'  # This pattern matches a sequence of 9 digits.\n",
    "    match = re.search(pattern, link)\n",
    "    if match:\n",
    "        return match.group(1)\n",
    "    else:\n",
    "        return None"
   ]
  },
  {
   "cell_type": "code",
   "execution_count": 3,
   "metadata": {},
   "outputs": [],
   "source": [
    "file1 = 'allcars_20_02_2023_20_47.csv'\n",
    "file2 = 'allcars_22_02_2023_21_24.csv'"
   ]
  },
  {
   "cell_type": "code",
   "execution_count": 4,
   "metadata": {},
   "outputs": [],
   "source": [
    "#create dataframes\n",
    "df1 = pd.read_csv(file1)\n",
    "df2 = pd.read_csv(file2)\n"
   ]
  },
  {
   "cell_type": "code",
   "execution_count": 5,
   "metadata": {},
   "outputs": [],
   "source": [
    "#apply extract_number function to the link column\n",
    "df1['ad_id'] = df1['link'].apply(extract_number)\n",
    "df2['ad_id'] = df2['link'].apply(extract_number)"
   ]
  },
  {
   "cell_type": "code",
   "execution_count": 6,
   "metadata": {},
   "outputs": [],
   "source": [
    "#save the new dataframes to csv files adding the suffix _clean\n",
    "df1.to_csv(file1.replace('.csv', '_clean.csv'), index=False)\n",
    "df2.to_csv(file2.replace('.csv', '_clean.csv'), index=False)"
   ]
  },
  {
   "attachments": {},
   "cell_type": "markdown",
   "metadata": {},
   "source": [
    "section to get only unique rows"
   ]
  },
  {
   "cell_type": "code",
   "execution_count": 7,
   "metadata": {},
   "outputs": [],
   "source": [
    "filea = 'allcars_20_02_2023_20_47_clean.csv'\n",
    "fileb = 'allcars_22_02_2023_21_24_clean.csv'\n",
    "\n",
    "def check_csv_file2(file1, file2):\n",
    "    # Read in the two CSV files as DataFrames\n",
    "    df1 = pd.read_csv(file1)\n",
    "    df2 = pd.read_csv(file2)\n",
    "\n",
    "    lista = df1['ad_id'].tolist()\n",
    "    listb = df2['ad_id'].tolist()\n",
    "\n",
    "    unique_values = set(lista) - set(listb)\n",
    "    return unique_values\n"
   ]
  },
  {
   "cell_type": "code",
   "execution_count": 8,
   "metadata": {},
   "outputs": [],
   "source": [
    "output = check_csv_file2(filea, fileb)"
   ]
  },
  {
   "cell_type": "code",
   "execution_count": 9,
   "metadata": {},
   "outputs": [
    {
     "name": "stdout",
     "output_type": "stream",
     "text": [
      "1122\n"
     ]
    }
   ],
   "source": [
    "print(len(output))"
   ]
  },
  {
   "cell_type": "code",
   "execution_count": 10,
   "metadata": {},
   "outputs": [],
   "source": [
    "#save output to csv file output.csv \n",
    "df4 = pd.DataFrame(output)\n",
    "df4.to_csv('output.csv', index=False)"
   ]
  }
 ],
 "metadata": {
  "kernelspec": {
   "display_name": "Python 3",
   "language": "python",
   "name": "python3"
  },
  "language_info": {
   "codemirror_mode": {
    "name": "ipython",
    "version": 3
   },
   "file_extension": ".py",
   "mimetype": "text/x-python",
   "name": "python",
   "nbconvert_exporter": "python",
   "pygments_lexer": "ipython3",
   "version": "3.8.3"
  },
  "orig_nbformat": 4,
  "vscode": {
   "interpreter": {
    "hash": "a7a19899c970446d20f78fcd45b3b6f0eeaa159115fffbfcf1983f14a283902a"
   }
  }
 },
 "nbformat": 4,
 "nbformat_minor": 2
}
