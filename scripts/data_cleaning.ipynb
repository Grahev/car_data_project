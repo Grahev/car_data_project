{
 "cells": [
  {
   "cell_type": "markdown",
   "metadata": {},
   "source": []
  },
  {
   "cell_type": "code",
   "execution_count": 38,
   "metadata": {},
   "outputs": [],
   "source": [
    "import re\n",
    "import pandas as pd\n",
    "import numpy as np\n",
    "import os"
   ]
  },
  {
   "cell_type": "code",
   "execution_count": 39,
   "metadata": {},
   "outputs": [],
   "source": [
    "# Set the directory path and file name\n",
    "dir_path = os.path.abspath(\"../input/\")\n",
    "file1 = \"usedcarsni_2023-02-22T21-43-40.csv\"\n",
    "file2 = \"usedcarsni_2022-10-06T21-13-05.csv\"\n",
    "\n",
    "# Create the absolute file path\n",
    "file1_path = os.path.join(dir_path, file1)\n",
    "file2_path = os.path.join(dir_path, file2)\n",
    "\n",
    "# Read the CSV file into a pandas DataFrame\n",
    "df1 = pd.read_csv(file1_path)\n",
    "df2 = pd.read_csv(file2_path)\n",
    "\n",
    "# Set output folder path\n",
    "output_path = os.path.abspath(\"../output/\")\n"
   ]
  },
  {
   "cell_type": "code",
   "execution_count": 40,
   "metadata": {},
   "outputs": [],
   "source": [
    "def extract_number(link):\n",
    "    pattern = r'(\\d{9})'  # This pattern matches a sequence of 9 digits.\n",
    "    match = re.search(pattern, link)\n",
    "    if match:\n",
    "        return match.group(1)\n",
    "    else:\n",
    "        return None\n",
    "\n",
    "def extract_unoque_string(link):\n",
    "    unique_string = link.split(\"/\")[-1].split(\"?\")[0]\n",
    "    return unique_string"
   ]
  },
  {
   "cell_type": "code",
   "execution_count": 41,
   "metadata": {},
   "outputs": [],
   "source": [
    "#apply extract_number function to the link column\n",
    "df1['ad_id'] = df1['link'].apply(extract_number)\n",
    "df2['ad_id'] = df2['link'].apply(extract_number)\n",
    "\n",
    "#apply extract_unoque_string function to the link column\n",
    "df1['unique_string'] = df1['link'].apply(extract_unoque_string)\n",
    "df2['unique_string'] = df2['link'].apply(extract_unoque_string)"
   ]
  },
  {
   "cell_type": "code",
   "execution_count": 42,
   "metadata": {},
   "outputs": [],
   "source": [
    "#save the new dataframes to csv files adding the suffix _clean\n",
    "df1.to_csv(file1.replace('.csv', '_clean.csv'), index=False)\n",
    "df2.to_csv(file2.replace('.csv', '_clean.csv'), index=False)"
   ]
  },
  {
   "attachments": {},
   "cell_type": "markdown",
   "metadata": {},
   "source": [
    "section to get only unique rows"
   ]
  },
  {
   "cell_type": "code",
   "execution_count": 43,
   "metadata": {},
   "outputs": [],
   "source": [
    "filea = file1.replace('.csv', '_clean.csv')\n",
    "fileb = file2.replace('.csv', '_clean.csv')\n",
    "\n",
    "def check_csv_file2(file1, file2):\n",
    "    # Read in the two CSV files as DataFrames\n",
    "    df1 = pd.read_csv(file1)\n",
    "    df2 = pd.read_csv(file2)\n",
    "\n",
    "    lista = df1['ad_id'].tolist()\n",
    "    listb = df2['ad_id'].tolist()\n",
    "\n",
    "    unique_values = set(lista) - set(listb)\n",
    "    return unique_values\n"
   ]
  },
  {
   "cell_type": "code",
   "execution_count": 44,
   "metadata": {},
   "outputs": [],
   "source": [
    "output = check_csv_file2(filea, fileb)"
   ]
  },
  {
   "cell_type": "code",
   "execution_count": 45,
   "metadata": {},
   "outputs": [
    {
     "name": "stdout",
     "output_type": "stream",
     "text": [
      "15651\n"
     ]
    }
   ],
   "source": [
    "print(len(output))"
   ]
  },
  {
   "cell_type": "code",
   "execution_count": 46,
   "metadata": {},
   "outputs": [],
   "source": [
    "#save output to csv file to output folder\n",
    "output_df = pd.DataFrame(output)\n",
    "output_df.to_csv(os.path.join(output_path, 'unique_Ids_output.csv'), index=False)"
   ]
  }
 ],
 "metadata": {
  "kernelspec": {
   "display_name": "Python 3",
   "language": "python",
   "name": "python3"
  },
  "language_info": {
   "codemirror_mode": {
    "name": "ipython",
    "version": 3
   },
   "file_extension": ".py",
   "mimetype": "text/x-python",
   "name": "python",
   "nbconvert_exporter": "python",
   "pygments_lexer": "ipython3",
   "version": "3.8.3"
  },
  "orig_nbformat": 4,
  "vscode": {
   "interpreter": {
    "hash": "a7a19899c970446d20f78fcd45b3b6f0eeaa159115fffbfcf1983f14a283902a"
   }
  }
 },
 "nbformat": 4,
 "nbformat_minor": 2
}
